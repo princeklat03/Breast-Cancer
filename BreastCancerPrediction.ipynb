{
 "cells": [
  {
   "cell_type": "code",
   "execution_count": 1,
   "id": "90ee1645",
   "metadata": {},
   "outputs": [],
   "source": [
    "import matplotlib.pyplot as plt\n",
    "import pandas as pd\n",
    "import numpy as np\n",
    "import seaborn as sns\n",
    "%matplotlib inline"
   ]
  },
  {
   "cell_type": "code",
   "execution_count": 2,
   "id": "342c21d0",
   "metadata": {},
   "outputs": [
    {
     "data": {
      "text/html": [
       "<div>\n",
       "<style scoped>\n",
       "    .dataframe tbody tr th:only-of-type {\n",
       "        vertical-align: middle;\n",
       "    }\n",
       "\n",
       "    .dataframe tbody tr th {\n",
       "        vertical-align: top;\n",
       "    }\n",
       "\n",
       "    .dataframe thead th {\n",
       "        text-align: right;\n",
       "    }\n",
       "</style>\n",
       "<table border=\"1\" class=\"dataframe\">\n",
       "  <thead>\n",
       "    <tr style=\"text-align: right;\">\n",
       "      <th></th>\n",
       "      <th>id</th>\n",
       "      <th>diagnosis</th>\n",
       "      <th>radius_mean</th>\n",
       "      <th>texture_mean</th>\n",
       "      <th>perimeter_mean</th>\n",
       "      <th>area_mean</th>\n",
       "      <th>smoothness_mean</th>\n",
       "      <th>compactness_mean</th>\n",
       "      <th>concavity_mean</th>\n",
       "      <th>concave points_mean</th>\n",
       "      <th>...</th>\n",
       "      <th>radius_worst</th>\n",
       "      <th>texture_worst</th>\n",
       "      <th>perimeter_worst</th>\n",
       "      <th>area_worst</th>\n",
       "      <th>smoothness_worst</th>\n",
       "      <th>compactness_worst</th>\n",
       "      <th>concavity_worst</th>\n",
       "      <th>concave points_worst</th>\n",
       "      <th>symmetry_worst</th>\n",
       "      <th>fractal_dimension_worst</th>\n",
       "    </tr>\n",
       "  </thead>\n",
       "  <tbody>\n",
       "    <tr>\n",
       "      <th>0</th>\n",
       "      <td>842302</td>\n",
       "      <td>M</td>\n",
       "      <td>17.99</td>\n",
       "      <td>10.38</td>\n",
       "      <td>122.80</td>\n",
       "      <td>1001.0</td>\n",
       "      <td>0.11840</td>\n",
       "      <td>0.27760</td>\n",
       "      <td>0.3001</td>\n",
       "      <td>0.14710</td>\n",
       "      <td>...</td>\n",
       "      <td>25.38</td>\n",
       "      <td>17.33</td>\n",
       "      <td>184.60</td>\n",
       "      <td>2019.0</td>\n",
       "      <td>0.1622</td>\n",
       "      <td>0.6656</td>\n",
       "      <td>0.7119</td>\n",
       "      <td>0.2654</td>\n",
       "      <td>0.4601</td>\n",
       "      <td>0.11890</td>\n",
       "    </tr>\n",
       "    <tr>\n",
       "      <th>1</th>\n",
       "      <td>842517</td>\n",
       "      <td>M</td>\n",
       "      <td>20.57</td>\n",
       "      <td>17.77</td>\n",
       "      <td>132.90</td>\n",
       "      <td>1326.0</td>\n",
       "      <td>0.08474</td>\n",
       "      <td>0.07864</td>\n",
       "      <td>0.0869</td>\n",
       "      <td>0.07017</td>\n",
       "      <td>...</td>\n",
       "      <td>24.99</td>\n",
       "      <td>23.41</td>\n",
       "      <td>158.80</td>\n",
       "      <td>1956.0</td>\n",
       "      <td>0.1238</td>\n",
       "      <td>0.1866</td>\n",
       "      <td>0.2416</td>\n",
       "      <td>0.1860</td>\n",
       "      <td>0.2750</td>\n",
       "      <td>0.08902</td>\n",
       "    </tr>\n",
       "    <tr>\n",
       "      <th>2</th>\n",
       "      <td>84300903</td>\n",
       "      <td>M</td>\n",
       "      <td>19.69</td>\n",
       "      <td>21.25</td>\n",
       "      <td>130.00</td>\n",
       "      <td>1203.0</td>\n",
       "      <td>0.10960</td>\n",
       "      <td>0.15990</td>\n",
       "      <td>0.1974</td>\n",
       "      <td>0.12790</td>\n",
       "      <td>...</td>\n",
       "      <td>23.57</td>\n",
       "      <td>25.53</td>\n",
       "      <td>152.50</td>\n",
       "      <td>1709.0</td>\n",
       "      <td>0.1444</td>\n",
       "      <td>0.4245</td>\n",
       "      <td>0.4504</td>\n",
       "      <td>0.2430</td>\n",
       "      <td>0.3613</td>\n",
       "      <td>0.08758</td>\n",
       "    </tr>\n",
       "    <tr>\n",
       "      <th>3</th>\n",
       "      <td>84348301</td>\n",
       "      <td>M</td>\n",
       "      <td>11.42</td>\n",
       "      <td>20.38</td>\n",
       "      <td>77.58</td>\n",
       "      <td>386.1</td>\n",
       "      <td>0.14250</td>\n",
       "      <td>0.28390</td>\n",
       "      <td>0.2414</td>\n",
       "      <td>0.10520</td>\n",
       "      <td>...</td>\n",
       "      <td>14.91</td>\n",
       "      <td>26.50</td>\n",
       "      <td>98.87</td>\n",
       "      <td>567.7</td>\n",
       "      <td>0.2098</td>\n",
       "      <td>0.8663</td>\n",
       "      <td>0.6869</td>\n",
       "      <td>0.2575</td>\n",
       "      <td>0.6638</td>\n",
       "      <td>0.17300</td>\n",
       "    </tr>\n",
       "    <tr>\n",
       "      <th>4</th>\n",
       "      <td>84358402</td>\n",
       "      <td>M</td>\n",
       "      <td>20.29</td>\n",
       "      <td>14.34</td>\n",
       "      <td>135.10</td>\n",
       "      <td>1297.0</td>\n",
       "      <td>0.10030</td>\n",
       "      <td>0.13280</td>\n",
       "      <td>0.1980</td>\n",
       "      <td>0.10430</td>\n",
       "      <td>...</td>\n",
       "      <td>22.54</td>\n",
       "      <td>16.67</td>\n",
       "      <td>152.20</td>\n",
       "      <td>1575.0</td>\n",
       "      <td>0.1374</td>\n",
       "      <td>0.2050</td>\n",
       "      <td>0.4000</td>\n",
       "      <td>0.1625</td>\n",
       "      <td>0.2364</td>\n",
       "      <td>0.07678</td>\n",
       "    </tr>\n",
       "  </tbody>\n",
       "</table>\n",
       "<p>5 rows × 32 columns</p>\n",
       "</div>"
      ],
      "text/plain": [
       "         id diagnosis  radius_mean  texture_mean  perimeter_mean  area_mean  \\\n",
       "0    842302         M        17.99         10.38          122.80     1001.0   \n",
       "1    842517         M        20.57         17.77          132.90     1326.0   \n",
       "2  84300903         M        19.69         21.25          130.00     1203.0   \n",
       "3  84348301         M        11.42         20.38           77.58      386.1   \n",
       "4  84358402         M        20.29         14.34          135.10     1297.0   \n",
       "\n",
       "   smoothness_mean  compactness_mean  concavity_mean  concave points_mean  \\\n",
       "0          0.11840           0.27760          0.3001              0.14710   \n",
       "1          0.08474           0.07864          0.0869              0.07017   \n",
       "2          0.10960           0.15990          0.1974              0.12790   \n",
       "3          0.14250           0.28390          0.2414              0.10520   \n",
       "4          0.10030           0.13280          0.1980              0.10430   \n",
       "\n",
       "   ...  radius_worst  texture_worst  perimeter_worst  area_worst  \\\n",
       "0  ...         25.38          17.33           184.60      2019.0   \n",
       "1  ...         24.99          23.41           158.80      1956.0   \n",
       "2  ...         23.57          25.53           152.50      1709.0   \n",
       "3  ...         14.91          26.50            98.87       567.7   \n",
       "4  ...         22.54          16.67           152.20      1575.0   \n",
       "\n",
       "   smoothness_worst  compactness_worst  concavity_worst  concave points_worst  \\\n",
       "0            0.1622             0.6656           0.7119                0.2654   \n",
       "1            0.1238             0.1866           0.2416                0.1860   \n",
       "2            0.1444             0.4245           0.4504                0.2430   \n",
       "3            0.2098             0.8663           0.6869                0.2575   \n",
       "4            0.1374             0.2050           0.4000                0.1625   \n",
       "\n",
       "   symmetry_worst  fractal_dimension_worst  \n",
       "0          0.4601                  0.11890  \n",
       "1          0.2750                  0.08902  \n",
       "2          0.3613                  0.08758  \n",
       "3          0.6638                  0.17300  \n",
       "4          0.2364                  0.07678  \n",
       "\n",
       "[5 rows x 32 columns]"
      ]
     },
     "execution_count": 2,
     "metadata": {},
     "output_type": "execute_result"
    }
   ],
   "source": [
    "df1 = pd.read_csv('/Users/PKLAT/Desktop/Edureka/week 4/breast-cancer-data.csv')\n",
    "df1.head()"
   ]
  },
  {
   "cell_type": "code",
   "execution_count": 3,
   "id": "b58c5c6d",
   "metadata": {},
   "outputs": [
    {
     "name": "stdout",
     "output_type": "stream",
     "text": [
      "<class 'pandas.core.frame.DataFrame'>\n",
      "RangeIndex: 569 entries, 0 to 568\n",
      "Data columns (total 32 columns):\n",
      " #   Column                   Non-Null Count  Dtype  \n",
      "---  ------                   --------------  -----  \n",
      " 0   id                       569 non-null    int64  \n",
      " 1   diagnosis                569 non-null    object \n",
      " 2   radius_mean              569 non-null    float64\n",
      " 3   texture_mean             569 non-null    float64\n",
      " 4   perimeter_mean           569 non-null    float64\n",
      " 5   area_mean                569 non-null    float64\n",
      " 6   smoothness_mean          569 non-null    float64\n",
      " 7   compactness_mean         569 non-null    float64\n",
      " 8   concavity_mean           569 non-null    float64\n",
      " 9   concave points_mean      569 non-null    float64\n",
      " 10  symmetry_mean            569 non-null    float64\n",
      " 11  fractal_dimension_mean   569 non-null    float64\n",
      " 12  radius_se                569 non-null    float64\n",
      " 13  texture_se               569 non-null    float64\n",
      " 14  perimeter_se             569 non-null    float64\n",
      " 15  area_se                  569 non-null    float64\n",
      " 16  smoothness_se            569 non-null    float64\n",
      " 17  compactness_se           569 non-null    float64\n",
      " 18  concavity_se             569 non-null    float64\n",
      " 19  concave points_se        569 non-null    float64\n",
      " 20  symmetry_se              569 non-null    float64\n",
      " 21  fractal_dimension_se     569 non-null    float64\n",
      " 22  radius_worst             569 non-null    float64\n",
      " 23  texture_worst            569 non-null    float64\n",
      " 24  perimeter_worst          569 non-null    float64\n",
      " 25  area_worst               569 non-null    float64\n",
      " 26  smoothness_worst         569 non-null    float64\n",
      " 27  compactness_worst        569 non-null    float64\n",
      " 28  concavity_worst          569 non-null    float64\n",
      " 29  concave points_worst     569 non-null    float64\n",
      " 30  symmetry_worst           569 non-null    float64\n",
      " 31  fractal_dimension_worst  569 non-null    float64\n",
      "dtypes: float64(30), int64(1), object(1)\n",
      "memory usage: 142.4+ KB\n"
     ]
    }
   ],
   "source": [
    "# Check the data , there should be no missing values \n",
    "df1.info()"
   ]
  },
  {
   "cell_type": "code",
   "execution_count": 4,
   "id": "7924d9e3",
   "metadata": {},
   "outputs": [
    {
     "data": {
      "text/plain": [
       "0      M\n",
       "1      M\n",
       "2      M\n",
       "3      M\n",
       "4      M\n",
       "      ..\n",
       "564    M\n",
       "565    M\n",
       "566    M\n",
       "567    M\n",
       "568    B\n",
       "Name: diagnosis, Length: 569, dtype: object"
      ]
     },
     "execution_count": 4,
     "metadata": {},
     "output_type": "execute_result"
    }
   ],
   "source": [
    "target=df1['diagnosis']\n",
    "target"
   ]
  },
  {
   "cell_type": "code",
   "execution_count": 5,
   "id": "b5bd3e3c",
   "metadata": {},
   "outputs": [],
   "source": [
    "df1.drop(['id', 'diagnosis'], axis=1,inplace=True)"
   ]
  },
  {
   "cell_type": "code",
   "execution_count": 6,
   "id": "5ae1c588",
   "metadata": {},
   "outputs": [],
   "source": [
    "from sklearn.decomposition import PCA"
   ]
  },
  {
   "cell_type": "code",
   "execution_count": 7,
   "id": "9dd5c46d",
   "metadata": {},
   "outputs": [],
   "source": [
    "pcm=PCA(n_components=30)"
   ]
  },
  {
   "cell_type": "code",
   "execution_count": 8,
   "id": "7e1c8136",
   "metadata": {},
   "outputs": [
    {
     "data": {
      "text/plain": [
       "PCA(n_components=30)"
      ]
     },
     "execution_count": 8,
     "metadata": {},
     "output_type": "execute_result"
    }
   ],
   "source": [
    "pcm.fit(df1)"
   ]
  },
  {
   "cell_type": "code",
   "execution_count": 9,
   "id": "b830c1a3",
   "metadata": {},
   "outputs": [],
   "source": [
    "df1_mod=pd.DataFrame(pcm.transform(df1))"
   ]
  },
  {
   "cell_type": "code",
   "execution_count": 10,
   "id": "7fcad3a9",
   "metadata": {},
   "outputs": [
    {
     "data": {
      "text/plain": [
       "array([4.43782605e+05, 7.31010006e+03, 7.03833742e+02, 5.46487379e+01,\n",
       "       3.98900178e+01, 3.00458768e+00, 1.81533030e+00, 3.71466740e-01,\n",
       "       1.55513547e-01, 8.40612196e-02, 3.16089533e-02, 7.49736514e-03,\n",
       "       3.16165652e-03, 2.16150395e-03, 1.32653879e-03, 6.40269304e-04,\n",
       "       3.74883320e-04, 2.35169626e-04, 1.84583467e-04, 1.64180064e-04,\n",
       "       7.81102011e-05, 5.76111660e-05, 3.49172775e-05, 2.83952689e-05,\n",
       "       1.61463677e-05, 1.24902419e-05, 3.68048171e-06, 2.84790425e-06,\n",
       "       2.00491564e-06, 7.01997261e-07])"
      ]
     },
     "execution_count": 10,
     "metadata": {},
     "output_type": "execute_result"
    }
   ],
   "source": [
    "pcm.explained_variance_"
   ]
  },
  {
   "cell_type": "code",
   "execution_count": 11,
   "id": "ed1cba11",
   "metadata": {},
   "outputs": [
    {
     "data": {
      "text/plain": [
       "array([9.82044672e-01, 1.61764899e-02, 1.55751075e-03, 1.20931964e-04,\n",
       "       8.82724536e-05, 6.64883951e-06, 4.01713682e-06, 8.22017197e-07,\n",
       "       3.44135279e-07, 1.86018721e-07, 6.99473205e-08, 1.65908880e-08,\n",
       "       6.99641650e-09, 4.78318306e-09, 2.93549214e-09, 1.41684927e-09,\n",
       "       8.29577731e-10, 5.20405883e-10, 4.08463983e-10, 3.63313378e-10,\n",
       "       1.72849737e-10, 1.27487508e-10, 7.72682973e-11, 6.28357718e-11,\n",
       "       3.57302295e-11, 2.76396041e-11, 8.14452259e-12, 6.30211541e-12,\n",
       "       4.43666945e-12, 1.55344680e-12])"
      ]
     },
     "execution_count": 11,
     "metadata": {},
     "output_type": "execute_result"
    }
   ],
   "source": [
    "pcm.explained_variance_ratio_"
   ]
  },
  {
   "cell_type": "code",
   "execution_count": 12,
   "id": "6a84e545",
   "metadata": {},
   "outputs": [
    {
     "data": {
      "text/plain": [
       "array([9.82044672e+01, 1.61764899e+00, 1.55751075e-01, 1.20931964e-02,\n",
       "       8.82724536e-03, 6.64883951e-04, 4.01713682e-04, 8.22017197e-05,\n",
       "       3.44135279e-05, 1.86018721e-05, 6.99473205e-06, 1.65908880e-06,\n",
       "       6.99641650e-07, 4.78318306e-07, 2.93549214e-07, 1.41684927e-07,\n",
       "       8.29577731e-08, 5.20405883e-08, 4.08463983e-08, 3.63313378e-08,\n",
       "       1.72849737e-08, 1.27487508e-08, 7.72682973e-09, 6.28357718e-09,\n",
       "       3.57302295e-09, 2.76396041e-09, 8.14452259e-10, 6.30211541e-10,\n",
       "       4.43666945e-10, 1.55344680e-10])"
      ]
     },
     "execution_count": 12,
     "metadata": {},
     "output_type": "execute_result"
    }
   ],
   "source": [
    "pcm.explained_variance_ratio_*100"
   ]
  },
  {
   "cell_type": "code",
   "execution_count": 13,
   "id": "2dc9df73",
   "metadata": {},
   "outputs": [
    {
     "data": {
      "text/plain": [
       "99.82211613741727"
      ]
     },
     "execution_count": 13,
     "metadata": {},
     "output_type": "execute_result"
    }
   ],
   "source": [
    "np.sum((pcm.explained_variance_ratio_*100)[0:2])"
   ]
  },
  {
   "cell_type": "code",
   "execution_count": 14,
   "id": "dfe47292",
   "metadata": {},
   "outputs": [],
   "source": [
    "df1_mod['diagnosis']=target"
   ]
  },
  {
   "cell_type": "code",
   "execution_count": 15,
   "id": "8d467b0e",
   "metadata": {},
   "outputs": [
    {
     "data": {
      "text/html": [
       "<div>\n",
       "<style scoped>\n",
       "    .dataframe tbody tr th:only-of-type {\n",
       "        vertical-align: middle;\n",
       "    }\n",
       "\n",
       "    .dataframe tbody tr th {\n",
       "        vertical-align: top;\n",
       "    }\n",
       "\n",
       "    .dataframe thead th {\n",
       "        text-align: right;\n",
       "    }\n",
       "</style>\n",
       "<table border=\"1\" class=\"dataframe\">\n",
       "  <thead>\n",
       "    <tr style=\"text-align: right;\">\n",
       "      <th></th>\n",
       "      <th>0</th>\n",
       "      <th>1</th>\n",
       "      <th>2</th>\n",
       "      <th>3</th>\n",
       "      <th>4</th>\n",
       "      <th>5</th>\n",
       "      <th>6</th>\n",
       "      <th>7</th>\n",
       "      <th>8</th>\n",
       "      <th>9</th>\n",
       "      <th>...</th>\n",
       "      <th>21</th>\n",
       "      <th>22</th>\n",
       "      <th>23</th>\n",
       "      <th>24</th>\n",
       "      <th>25</th>\n",
       "      <th>26</th>\n",
       "      <th>27</th>\n",
       "      <th>28</th>\n",
       "      <th>29</th>\n",
       "      <th>diagnosis</th>\n",
       "    </tr>\n",
       "  </thead>\n",
       "  <tbody>\n",
       "    <tr>\n",
       "      <th>564</th>\n",
       "      <td>1414.126684</td>\n",
       "      <td>110.222492</td>\n",
       "      <td>40.065944</td>\n",
       "      <td>6.562240</td>\n",
       "      <td>-5.102856</td>\n",
       "      <td>-0.395424</td>\n",
       "      <td>-0.786751</td>\n",
       "      <td>0.037082</td>\n",
       "      <td>-0.452530</td>\n",
       "      <td>-0.235185</td>\n",
       "      <td>...</td>\n",
       "      <td>0.007864</td>\n",
       "      <td>-0.002317</td>\n",
       "      <td>-0.002384</td>\n",
       "      <td>-0.003637</td>\n",
       "      <td>-0.008211</td>\n",
       "      <td>0.002418</td>\n",
       "      <td>0.001234</td>\n",
       "      <td>-0.000078</td>\n",
       "      <td>-0.000455</td>\n",
       "      <td>M</td>\n",
       "    </tr>\n",
       "    <tr>\n",
       "      <th>565</th>\n",
       "      <td>1045.018854</td>\n",
       "      <td>77.057589</td>\n",
       "      <td>0.036669</td>\n",
       "      <td>-4.753245</td>\n",
       "      <td>-12.417863</td>\n",
       "      <td>-0.059637</td>\n",
       "      <td>0.449831</td>\n",
       "      <td>0.509154</td>\n",
       "      <td>-0.449986</td>\n",
       "      <td>0.493247</td>\n",
       "      <td>...</td>\n",
       "      <td>-0.001905</td>\n",
       "      <td>-0.003028</td>\n",
       "      <td>-0.007931</td>\n",
       "      <td>0.002905</td>\n",
       "      <td>-0.002519</td>\n",
       "      <td>0.000212</td>\n",
       "      <td>0.001006</td>\n",
       "      <td>-0.000621</td>\n",
       "      <td>-0.000741</td>\n",
       "      <td>M</td>\n",
       "    </tr>\n",
       "    <tr>\n",
       "      <th>566</th>\n",
       "      <td>314.501756</td>\n",
       "      <td>47.553525</td>\n",
       "      <td>-10.442407</td>\n",
       "      <td>-9.771881</td>\n",
       "      <td>-6.156213</td>\n",
       "      <td>-0.870726</td>\n",
       "      <td>-2.166493</td>\n",
       "      <td>-0.442279</td>\n",
       "      <td>-0.097398</td>\n",
       "      <td>-0.144667</td>\n",
       "      <td>...</td>\n",
       "      <td>-0.002249</td>\n",
       "      <td>-0.001248</td>\n",
       "      <td>-0.003927</td>\n",
       "      <td>-0.000921</td>\n",
       "      <td>0.000573</td>\n",
       "      <td>-0.001325</td>\n",
       "      <td>0.000025</td>\n",
       "      <td>0.000484</td>\n",
       "      <td>-0.000285</td>\n",
       "      <td>M</td>\n",
       "    </tr>\n",
       "    <tr>\n",
       "      <th>567</th>\n",
       "      <td>1124.858115</td>\n",
       "      <td>34.129225</td>\n",
       "      <td>-19.742087</td>\n",
       "      <td>-23.660881</td>\n",
       "      <td>3.565133</td>\n",
       "      <td>4.086390</td>\n",
       "      <td>-1.705401</td>\n",
       "      <td>-0.359964</td>\n",
       "      <td>0.385030</td>\n",
       "      <td>0.615467</td>\n",
       "      <td>...</td>\n",
       "      <td>-0.010804</td>\n",
       "      <td>0.005841</td>\n",
       "      <td>0.001127</td>\n",
       "      <td>-0.002646</td>\n",
       "      <td>0.001862</td>\n",
       "      <td>0.002698</td>\n",
       "      <td>0.001235</td>\n",
       "      <td>-0.000809</td>\n",
       "      <td>0.001217</td>\n",
       "      <td>M</td>\n",
       "    </tr>\n",
       "    <tr>\n",
       "      <th>568</th>\n",
       "      <td>-771.527622</td>\n",
       "      <td>-88.643106</td>\n",
       "      <td>23.889032</td>\n",
       "      <td>2.547249</td>\n",
       "      <td>-14.717566</td>\n",
       "      <td>4.418123</td>\n",
       "      <td>-2.815752</td>\n",
       "      <td>0.030039</td>\n",
       "      <td>-0.423451</td>\n",
       "      <td>-0.301439</td>\n",
       "      <td>...</td>\n",
       "      <td>-0.009224</td>\n",
       "      <td>0.000242</td>\n",
       "      <td>0.011529</td>\n",
       "      <td>0.012745</td>\n",
       "      <td>0.003539</td>\n",
       "      <td>0.001129</td>\n",
       "      <td>-0.004446</td>\n",
       "      <td>0.000243</td>\n",
       "      <td>0.001468</td>\n",
       "      <td>B</td>\n",
       "    </tr>\n",
       "  </tbody>\n",
       "</table>\n",
       "<p>5 rows × 31 columns</p>\n",
       "</div>"
      ],
      "text/plain": [
       "               0           1          2          3          4         5  \\\n",
       "564  1414.126684  110.222492  40.065944   6.562240  -5.102856 -0.395424   \n",
       "565  1045.018854   77.057589   0.036669  -4.753245 -12.417863 -0.059637   \n",
       "566   314.501756   47.553525 -10.442407  -9.771881  -6.156213 -0.870726   \n",
       "567  1124.858115   34.129225 -19.742087 -23.660881   3.565133  4.086390   \n",
       "568  -771.527622  -88.643106  23.889032   2.547249 -14.717566  4.418123   \n",
       "\n",
       "            6         7         8         9  ...        21        22  \\\n",
       "564 -0.786751  0.037082 -0.452530 -0.235185  ...  0.007864 -0.002317   \n",
       "565  0.449831  0.509154 -0.449986  0.493247  ... -0.001905 -0.003028   \n",
       "566 -2.166493 -0.442279 -0.097398 -0.144667  ... -0.002249 -0.001248   \n",
       "567 -1.705401 -0.359964  0.385030  0.615467  ... -0.010804  0.005841   \n",
       "568 -2.815752  0.030039 -0.423451 -0.301439  ... -0.009224  0.000242   \n",
       "\n",
       "           23        24        25        26        27        28        29  \\\n",
       "564 -0.002384 -0.003637 -0.008211  0.002418  0.001234 -0.000078 -0.000455   \n",
       "565 -0.007931  0.002905 -0.002519  0.000212  0.001006 -0.000621 -0.000741   \n",
       "566 -0.003927 -0.000921  0.000573 -0.001325  0.000025  0.000484 -0.000285   \n",
       "567  0.001127 -0.002646  0.001862  0.002698  0.001235 -0.000809  0.001217   \n",
       "568  0.011529  0.012745  0.003539  0.001129 -0.004446  0.000243  0.001468   \n",
       "\n",
       "     diagnosis  \n",
       "564          M  \n",
       "565          M  \n",
       "566          M  \n",
       "567          M  \n",
       "568          B  \n",
       "\n",
       "[5 rows x 31 columns]"
      ]
     },
     "execution_count": 15,
     "metadata": {},
     "output_type": "execute_result"
    }
   ],
   "source": [
    "df1_mod.tail()"
   ]
  },
  {
   "cell_type": "code",
   "execution_count": 16,
   "id": "273e5e76",
   "metadata": {},
   "outputs": [],
   "source": [
    "y=df1_mod['diagnosis']\n",
    "x=df1_mod[[0,1]]"
   ]
  },
  {
   "cell_type": "code",
   "execution_count": 17,
   "id": "d300cfc2",
   "metadata": {},
   "outputs": [],
   "source": [
    "from sklearn.linear_model import LogisticRegression"
   ]
  },
  {
   "cell_type": "code",
   "execution_count": 18,
   "id": "a165b3e6",
   "metadata": {},
   "outputs": [],
   "source": [
    "from sklearn.model_selection import train_test_split"
   ]
  },
  {
   "cell_type": "code",
   "execution_count": 19,
   "id": "b4d64ab2",
   "metadata": {},
   "outputs": [],
   "source": [
    "trainx,testx,trainy,testy=train_test_split(x,y,test_size=0.3,random_state=0)"
   ]
  },
  {
   "cell_type": "code",
   "execution_count": 20,
   "id": "1bd1a016",
   "metadata": {},
   "outputs": [],
   "source": [
    "pca_3 = PCA(n_components=3)\n",
    "pca_3.fit(scaled_data)\n",
    "x_pca_3 = pca_3.transform(scaled_data)"
   ]
  },
  {
   "cell_type": "code",
   "execution_count": 22,
   "id": "057eb098",
   "metadata": {},
   "outputs": [],
   "source": [
    "log=LogisticRegression()"
   ]
  },
  {
   "cell_type": "code",
   "execution_count": 24,
   "id": "9c419032",
   "metadata": {},
   "outputs": [
    {
     "data": {
      "text/plain": [
       "LogisticRegression()"
      ]
     },
     "execution_count": 24,
     "metadata": {},
     "output_type": "execute_result"
    }
   ],
   "source": [
    "log.fit(trainx,trainy)"
   ]
  },
  {
   "cell_type": "code",
   "execution_count": 25,
   "id": "0e4a29aa",
   "metadata": {},
   "outputs": [],
   "source": [
    "pred=log.predict(testx)"
   ]
  },
  {
   "cell_type": "code",
   "execution_count": 26,
   "id": "9b8a3925",
   "metadata": {},
   "outputs": [],
   "source": [
    "from sklearn.metrics import accuracy_score"
   ]
  },
  {
   "cell_type": "code",
   "execution_count": 27,
   "id": "426a6ecb",
   "metadata": {},
   "outputs": [
    {
     "data": {
      "text/plain": [
       "0.9532163742690059"
      ]
     },
     "execution_count": 27,
     "metadata": {},
     "output_type": "execute_result"
    }
   ],
   "source": [
    "acc_log_reg = accuracy_score(testy,pred)\n",
    "acc_log_reg"
   ]
  },
  {
   "cell_type": "code",
   "execution_count": 28,
   "id": "d3e4e241",
   "metadata": {},
   "outputs": [
    {
     "data": {
      "text/html": [
       "<div>\n",
       "<style scoped>\n",
       "    .dataframe tbody tr th:only-of-type {\n",
       "        vertical-align: middle;\n",
       "    }\n",
       "\n",
       "    .dataframe tbody tr th {\n",
       "        vertical-align: top;\n",
       "    }\n",
       "\n",
       "    .dataframe thead th {\n",
       "        text-align: right;\n",
       "    }\n",
       "</style>\n",
       "<table border=\"1\" class=\"dataframe\">\n",
       "  <thead>\n",
       "    <tr style=\"text-align: right;\">\n",
       "      <th></th>\n",
       "      <th>real</th>\n",
       "      <th>pred</th>\n",
       "    </tr>\n",
       "  </thead>\n",
       "  <tbody>\n",
       "    <tr>\n",
       "      <th>512</th>\n",
       "      <td>M</td>\n",
       "      <td>M</td>\n",
       "    </tr>\n",
       "    <tr>\n",
       "      <th>457</th>\n",
       "      <td>B</td>\n",
       "      <td>B</td>\n",
       "    </tr>\n",
       "    <tr>\n",
       "      <th>439</th>\n",
       "      <td>B</td>\n",
       "      <td>B</td>\n",
       "    </tr>\n",
       "    <tr>\n",
       "      <th>298</th>\n",
       "      <td>B</td>\n",
       "      <td>B</td>\n",
       "    </tr>\n",
       "    <tr>\n",
       "      <th>37</th>\n",
       "      <td>B</td>\n",
       "      <td>B</td>\n",
       "    </tr>\n",
       "    <tr>\n",
       "      <th>...</th>\n",
       "      <td>...</td>\n",
       "      <td>...</td>\n",
       "    </tr>\n",
       "    <tr>\n",
       "      <th>7</th>\n",
       "      <td>M</td>\n",
       "      <td>M</td>\n",
       "    </tr>\n",
       "    <tr>\n",
       "      <th>408</th>\n",
       "      <td>M</td>\n",
       "      <td>M</td>\n",
       "    </tr>\n",
       "    <tr>\n",
       "      <th>523</th>\n",
       "      <td>B</td>\n",
       "      <td>B</td>\n",
       "    </tr>\n",
       "    <tr>\n",
       "      <th>361</th>\n",
       "      <td>B</td>\n",
       "      <td>B</td>\n",
       "    </tr>\n",
       "    <tr>\n",
       "      <th>553</th>\n",
       "      <td>B</td>\n",
       "      <td>B</td>\n",
       "    </tr>\n",
       "  </tbody>\n",
       "</table>\n",
       "<p>171 rows × 2 columns</p>\n",
       "</div>"
      ],
      "text/plain": [
       "    real pred\n",
       "512    M    M\n",
       "457    B    B\n",
       "439    B    B\n",
       "298    B    B\n",
       "37     B    B\n",
       "..   ...  ...\n",
       "7      M    M\n",
       "408    M    M\n",
       "523    B    B\n",
       "361    B    B\n",
       "553    B    B\n",
       "\n",
       "[171 rows x 2 columns]"
      ]
     },
     "execution_count": 28,
     "metadata": {},
     "output_type": "execute_result"
    }
   ],
   "source": [
    "pd.DataFrame({'real':testy, 'pred':pred})"
   ]
  },
  {
   "cell_type": "code",
   "execution_count": 29,
   "id": "b9a526a3",
   "metadata": {},
   "outputs": [],
   "source": [
    "from sklearn.metrics import confusion_matrix, f1_score"
   ]
  },
  {
   "cell_type": "code",
   "execution_count": 31,
   "id": "417927bf",
   "metadata": {},
   "outputs": [
    {
     "data": {
      "text/plain": [
       "array([[105,   5],\n",
       "       [  3,  58]])"
      ]
     },
     "execution_count": 31,
     "metadata": {},
     "output_type": "execute_result"
    }
   ],
   "source": [
    "confusion_matrix(pred,testy)"
   ]
  },
  {
   "cell_type": "code",
   "execution_count": 32,
   "id": "41b661c8",
   "metadata": {},
   "outputs": [
    {
     "data": {
      "text/plain": [
       "0.9354838709677418"
      ]
     },
     "execution_count": 32,
     "metadata": {},
     "output_type": "execute_result"
    }
   ],
   "source": [
    "f1_score(testy,pred, pos_label='M')"
   ]
  },
  {
   "cell_type": "code",
   "execution_count": 33,
   "id": "5349f3a0",
   "metadata": {},
   "outputs": [
    {
     "data": {
      "text/plain": [
       "0.963302752293578"
      ]
     },
     "execution_count": 33,
     "metadata": {},
     "output_type": "execute_result"
    }
   ],
   "source": [
    "f1_score(testy,pred, pos_label='B')"
   ]
  },
  {
   "cell_type": "code",
   "execution_count": 34,
   "id": "4006213a",
   "metadata": {},
   "outputs": [],
   "source": [
    "from sklearn.tree import DecisionTreeClassifier\n",
    "from sklearn.ensemble import RandomForestClassifier"
   ]
  },
  {
   "cell_type": "code",
   "execution_count": 35,
   "id": "e534b5e5",
   "metadata": {},
   "outputs": [],
   "source": [
    "dec = DecisionTreeClassifier()\n",
    "rand = RandomForestClassifier(n_estimators=100)"
   ]
  },
  {
   "cell_type": "code",
   "execution_count": 36,
   "id": "f1266d39",
   "metadata": {},
   "outputs": [
    {
     "data": {
      "text/plain": [
       "DecisionTreeClassifier()"
      ]
     },
     "execution_count": 36,
     "metadata": {},
     "output_type": "execute_result"
    }
   ],
   "source": [
    "dec.fit(trainx,trainy)"
   ]
  },
  {
   "cell_type": "code",
   "execution_count": 37,
   "id": "cc7b4f91",
   "metadata": {},
   "outputs": [
    {
     "data": {
      "text/plain": [
       "RandomForestClassifier()"
      ]
     },
     "execution_count": 37,
     "metadata": {},
     "output_type": "execute_result"
    }
   ],
   "source": [
    "rand.fit(trainx,trainy)"
   ]
  },
  {
   "cell_type": "code",
   "execution_count": 38,
   "id": "4d77f279",
   "metadata": {},
   "outputs": [],
   "source": [
    "pred_dec = dec.predict(testx)\n",
    "pred_rand = rand.predict(testx)"
   ]
  },
  {
   "cell_type": "code",
   "execution_count": 39,
   "id": "53c0e659",
   "metadata": {},
   "outputs": [],
   "source": [
    "acc_dec = accuracy_score(testy,pred_dec)\n",
    "acc_rand = accuracy_score(testy,pred_rand)"
   ]
  },
  {
   "cell_type": "code",
   "execution_count": 40,
   "id": "b19ffb28",
   "metadata": {},
   "outputs": [
    {
     "data": {
      "text/plain": [
       "0.9239766081871345"
      ]
     },
     "execution_count": 40,
     "metadata": {},
     "output_type": "execute_result"
    }
   ],
   "source": [
    "acc_dec "
   ]
  },
  {
   "cell_type": "code",
   "execution_count": 41,
   "id": "9427a64b",
   "metadata": {},
   "outputs": [
    {
     "data": {
      "text/plain": [
       "0.9415204678362573"
      ]
     },
     "execution_count": 41,
     "metadata": {},
     "output_type": "execute_result"
    }
   ],
   "source": [
    "acc_rand"
   ]
  },
  {
   "cell_type": "code",
   "execution_count": 42,
   "id": "0d2ae09f",
   "metadata": {},
   "outputs": [],
   "source": [
    "new_df = pd.DataFrame({'Logistic': pred, 'Decision Tree': pred_dec, 'Random Forest': pred_rand})"
   ]
  },
  {
   "cell_type": "code",
   "execution_count": 43,
   "id": "f76d9a02",
   "metadata": {},
   "outputs": [
    {
     "data": {
      "text/html": [
       "<div>\n",
       "<style scoped>\n",
       "    .dataframe tbody tr th:only-of-type {\n",
       "        vertical-align: middle;\n",
       "    }\n",
       "\n",
       "    .dataframe tbody tr th {\n",
       "        vertical-align: top;\n",
       "    }\n",
       "\n",
       "    .dataframe thead th {\n",
       "        text-align: right;\n",
       "    }\n",
       "</style>\n",
       "<table border=\"1\" class=\"dataframe\">\n",
       "  <thead>\n",
       "    <tr style=\"text-align: right;\">\n",
       "      <th></th>\n",
       "      <th>Logistic</th>\n",
       "      <th>Decision Tree</th>\n",
       "      <th>Random Forest</th>\n",
       "    </tr>\n",
       "  </thead>\n",
       "  <tbody>\n",
       "    <tr>\n",
       "      <th>0</th>\n",
       "      <td>M</td>\n",
       "      <td>B</td>\n",
       "      <td>M</td>\n",
       "    </tr>\n",
       "    <tr>\n",
       "      <th>1</th>\n",
       "      <td>B</td>\n",
       "      <td>B</td>\n",
       "      <td>B</td>\n",
       "    </tr>\n",
       "    <tr>\n",
       "      <th>2</th>\n",
       "      <td>B</td>\n",
       "      <td>B</td>\n",
       "      <td>B</td>\n",
       "    </tr>\n",
       "    <tr>\n",
       "      <th>3</th>\n",
       "      <td>B</td>\n",
       "      <td>M</td>\n",
       "      <td>M</td>\n",
       "    </tr>\n",
       "    <tr>\n",
       "      <th>4</th>\n",
       "      <td>B</td>\n",
       "      <td>B</td>\n",
       "      <td>B</td>\n",
       "    </tr>\n",
       "    <tr>\n",
       "      <th>...</th>\n",
       "      <td>...</td>\n",
       "      <td>...</td>\n",
       "      <td>...</td>\n",
       "    </tr>\n",
       "    <tr>\n",
       "      <th>166</th>\n",
       "      <td>M</td>\n",
       "      <td>M</td>\n",
       "      <td>M</td>\n",
       "    </tr>\n",
       "    <tr>\n",
       "      <th>167</th>\n",
       "      <td>M</td>\n",
       "      <td>M</td>\n",
       "      <td>M</td>\n",
       "    </tr>\n",
       "    <tr>\n",
       "      <th>168</th>\n",
       "      <td>B</td>\n",
       "      <td>B</td>\n",
       "      <td>B</td>\n",
       "    </tr>\n",
       "    <tr>\n",
       "      <th>169</th>\n",
       "      <td>B</td>\n",
       "      <td>B</td>\n",
       "      <td>B</td>\n",
       "    </tr>\n",
       "    <tr>\n",
       "      <th>170</th>\n",
       "      <td>B</td>\n",
       "      <td>B</td>\n",
       "      <td>B</td>\n",
       "    </tr>\n",
       "  </tbody>\n",
       "</table>\n",
       "<p>171 rows × 3 columns</p>\n",
       "</div>"
      ],
      "text/plain": [
       "    Logistic Decision Tree Random Forest\n",
       "0          M             B             M\n",
       "1          B             B             B\n",
       "2          B             B             B\n",
       "3          B             M             M\n",
       "4          B             B             B\n",
       "..       ...           ...           ...\n",
       "166        M             M             M\n",
       "167        M             M             M\n",
       "168        B             B             B\n",
       "169        B             B             B\n",
       "170        B             B             B\n",
       "\n",
       "[171 rows x 3 columns]"
      ]
     },
     "execution_count": 43,
     "metadata": {},
     "output_type": "execute_result"
    }
   ],
   "source": [
    "new_df"
   ]
  },
  {
   "cell_type": "code",
   "execution_count": 45,
   "id": "e46e2281",
   "metadata": {},
   "outputs": [
    {
     "data": {
      "image/png": "[encoded data removed]",
      "text/plain": [
       "<Figure size 432x288 with 1 Axes>"
      ]
     },
     "metadata": {
      "needs_background": "light"
     },
     "output_type": "display_data"
    }
   ],
   "source": [
    "plt.plot(pd.Series(['Logistic Reg','Decision Tree', 'Random Forest']), pd.Series([acc_log_reg,acc_dec,acc_rand]), linewidth=3)\n",
    "plt.xlabel('Methods', fontsize=20, weight = 'bold')\n",
    "plt.ylabel('Accuracy', fontsize=20, weight='bold')\n",
    "plt.xticks(rotation = 45, fontsize=16, weight='bold')\n",
    "plt.yticks(fontsize=16, weight='bold')\n",
    "plt.show()"
   ]
  },
  {
   "cell_type": "code",
   "execution_count": 46,
   "id": "d3edcf97",
   "metadata": {},
   "outputs": [
    {
     "data": {
      "image/png": "[encoded data removed]",
      "text/plain": [
       "<Figure size 720x720 with 1 Axes>"
      ]
     },
     "metadata": {
      "needs_background": "light"
     },
     "output_type": "display_data"
    }
   ],
   "source": [
    "plt.figure(figsize=(10,10))\n",
    "plt.bar(pd.Series(['Logistic Reg','Decision Tree', 'Random Forest']), pd.Series([acc_log_reg,acc_dec,acc_rand]), color='magenta')\n",
    "plt.xlabel('Methods', fontsize=20, weight = 'bold')\n",
    "plt.ylabel('Accuracy', fontsize=20, weight='bold')\n",
    "plt.xticks(fontsize=16, weight='bold')\n",
    "plt.yticks(fontsize=16, weight='bold')\n",
    "plt.show()"
   ]
  },
  {
   "cell_type": "code",
   "execution_count": 47,
   "id": "7ce2d655",
   "metadata": {},
   "outputs": [
    {
     "data": {
      "text/plain": [
       "0.9354838709677418"
      ]
     },
     "execution_count": 47,
     "metadata": {},
     "output_type": "execute_result"
    }
   ],
   "source": [
    "f1_score_log_M = f1_score(testy,pred, pos_label='M')\n",
    "f1_score_log_M"
   ]
  },
  {
   "cell_type": "code",
   "execution_count": 48,
   "id": "e221bc49",
   "metadata": {},
   "outputs": [
    {
     "data": {
      "text/plain": [
       "0.963302752293578"
      ]
     },
     "execution_count": 48,
     "metadata": {},
     "output_type": "execute_result"
    }
   ],
   "source": [
    "f1_score_log_B = f1_score(testy,pred, pos_label='B')\n",
    "f1_score_log_B"
   ]
  },
  {
   "cell_type": "code",
   "execution_count": 49,
   "id": "899c571d",
   "metadata": {},
   "outputs": [
    {
     "data": {
      "text/plain": [
       "0.8959999999999999"
      ]
     },
     "execution_count": 49,
     "metadata": {},
     "output_type": "execute_result"
    }
   ],
   "source": [
    "f1_score_dec_M = f1_score(testy,pred_dec, pos_label='M')\n",
    "f1_score_dec_M"
   ]
  },
  {
   "cell_type": "code",
   "execution_count": 50,
   "id": "6c31180d",
   "metadata": {},
   "outputs": [
    {
     "data": {
      "text/plain": [
       "0.9400921658986177"
      ]
     },
     "execution_count": 50,
     "metadata": {},
     "output_type": "execute_result"
    }
   ],
   "source": [
    "f1_score_dec_B = f1_score(testy,pred_dec, pos_label='B')\n",
    "f1_score_dec_B"
   ]
  },
  {
   "cell_type": "code",
   "execution_count": 51,
   "id": "2e55019f",
   "metadata": {},
   "outputs": [
    {
     "data": {
      "text/plain": [
       "0.9206349206349206"
      ]
     },
     "execution_count": 51,
     "metadata": {},
     "output_type": "execute_result"
    }
   ],
   "source": [
    "f1_score_rand_M  = f1_score(testy,pred_rand, pos_label='M')\n",
    "f1_score_rand_M"
   ]
  },
  {
   "cell_type": "code",
   "execution_count": 52,
   "id": "6973c22c",
   "metadata": {},
   "outputs": [
    {
     "data": {
      "text/plain": [
       "0.9537037037037037"
      ]
     },
     "execution_count": 52,
     "metadata": {},
     "output_type": "execute_result"
    }
   ],
   "source": [
    "f1_score_rand_B = f1_score(testy,pred_rand, pos_label='B')\n",
    "f1_score_rand_B"
   ]
  },
  {
   "cell_type": "code",
   "execution_count": 53,
   "id": "c3702b6b",
   "metadata": {},
   "outputs": [
    {
     "data": {
      "image/png": "[encoded data removed]",
      "text/plain": [
       "<Figure size 576x576 with 1 Axes>"
      ]
     },
     "metadata": {
      "needs_background": "light"
     },
     "output_type": "display_data"
    }
   ],
   "source": [
    "plt.figure(figsize=(8,8))\n",
    "plt.bar(pd.Series(['Logistic Reg-M', 'Logistic Reg-B', 'X', 'Decision Tree-M', 'Decision Tree - B', 'Y', 'Random Forest-M', 'Random Forest-B']), pd.Series([f1_score_log_M,f1_score_log_B, 0, f1_score_dec_M, f1_score_dec_B, 0, f1_score_rand_M,f1_score_rand_B]), color=['magenta','magenta', 'white', 'blue', 'blue', 'white','black','black'])\n",
    "plt.xlabel('Methods', fontsize=20, weight = 'bold')\n",
    "plt.ylabel('F1-Score', fontsize=20, weight='bold')\n",
    "plt.xticks(rotation=90, fontsize=16, weight='bold')\n",
    "plt.yticks(fontsize=16, weight='bold')\n",
    "plt.show()"
   ]
  },
  {
   "cell_type": "code",
   "execution_count": null,
   "id": "2754c11f",
   "metadata": {},
   "outputs": [],
   "source": []
  }
 ],
 "metadata": {
  "kernelspec": {
   "display_name": "Python 3",
   "language": "python",
   "name": "python3"
  },
  "language_info": {
   "codemirror_mode": {
    "name": "ipython",
    "version": 3
   },
   "file_extension": ".py",
   "mimetype": "text/x-python",
   "name": "python",
   "nbconvert_exporter": "python",
   "pygments_lexer": "ipython3",
   "version": "3.7.6"
  }
 },
 "nbformat": 4,
 "nbformat_minor": 5
}
